{
 "cells": [
  {
   "cell_type": "code",
   "execution_count": 7,
   "metadata": {},
   "outputs": [
    {
     "name": "stdout",
     "output_type": "stream",
     "text": [
      "Abhishek Bhujbal,\n",
      "Swagat CHS, A/3, 1/6,\n",
      "Sector-24,Nerul,\n",
      "Navi Mumbai-400706\n"
     ]
    }
   ],
   "source": [
    "# %load C:\\Users\\Abhisekh\\Desktop\\Python_basics\\Exercises\\first.py\n",
    "# Create a program that displays your name and complete mailing address formatted \n",
    "# in  the manner that you would usually see it on the outside of an envelope. \n",
    "# Your program does not need to read any input from the user\n",
    "\n",
    "# print(\"Abhishek Bhujbal\")\n",
    "# Abhishek Bhujbal\n",
    "# Swagat CHS A/3, 1/6, \n",
    "# Sector-24, Nerul,\n",
    "# Navi Mumbai-400706\n",
    "\n",
    "\n",
    "\n",
    "# creating a dictionary having key and value pairs  \n",
    "info = {'name':\"Abhishek Bhujbal,\", 'building_No':\"Swagat CHS, A/3, 1/6,\", 'locality':\"Sector-24,Nerul,\", 'area':\"Navi Mumbai-400706\"}\n",
    "\n",
    "#iterating ingo dictionary into for loop for getting desired output\n",
    "for key, value in info.items():\n",
    "    print(value)"
   ]
  },
  {
   "cell_type": "code",
   "execution_count": 9,
   "metadata": {},
   "outputs": [
    {
     "name": "stdout",
     "output_type": "stream",
     "text": [
      "Enter the no.of small containers you want to recycle?5\n",
      "Enter the no.of large containers you want to recycle?25\n",
      "Total refund for returning the both Containers is $6.75\n"
     ]
    }
   ],
   "source": [
    "# %load C:\\Users\\Abhisekh\\Desktop\\Python_basics\\Exercises\\second.py\n",
    "\"\"\"In many jurisdictions a small deposit is added to drink containers to\n",
    "encourage people to recycle them. In one particular jurisdiction, drink containers\n",
    "holding one liter or less have a $0.10 deposit, and drink containers holding \n",
    "more than one liter have a $0.25 deposit. Write a program that reads the number \n",
    "of containers of each size from the user. Your program should continue by computing \n",
    "and displaying the refund that will be received for returning those containers. \n",
    "Format the output so that it includes a dollar sign and always displays exactly\n",
    "two decimal places\"\"\"\n",
    "\n",
    "#taking input from user in the int format \n",
    "small_Container = int(input(\"Enter the no.of small containers you want to recycle?\"))\n",
    "\n",
    "large_Container = int(input(\"Enter the no.of large containers you want to recycle?\"))\n",
    "\n",
    "#computing the refund using both small and large container\n",
    "refund = (small_Container * 0.10) + (large_Container * 0.25)\n",
    "\n",
    "#displaying the refund in the format having two decimal places with '$' sign \n",
    "print(\"Total refund for returning the both Containers is $\" + \"{0:.2f}\".format(float(refund)))"
   ]
  },
  {
   "cell_type": "code",
   "execution_count": null,
   "metadata": {},
   "outputs": [],
   "source": []
  }
 ],
 "metadata": {
  "kernelspec": {
   "display_name": "Python 3",
   "language": "python",
   "name": "python3"
  },
  "language_info": {
   "codemirror_mode": {
    "name": "ipython",
    "version": 3
   },
   "file_extension": ".py",
   "mimetype": "text/x-python",
   "name": "python",
   "nbconvert_exporter": "python",
   "pygments_lexer": "ipython3",
   "version": "3.7.7"
  }
 },
 "nbformat": 4,
 "nbformat_minor": 4
}
