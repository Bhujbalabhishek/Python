{
 "cells": [
  {
   "cell_type": "code",
   "execution_count": 22,
   "metadata": {},
   "outputs": [],
   "source": [
    "#creating list of students in 2 classrooms:\n",
    "\n",
    "class_1 = ['Abhishek','Akshay','vishal','hemant']\n",
    "class_2 = ['Rohit ','sagar','Prasad']"
   ]
  },
  {
   "cell_type": "code",
   "execution_count": 23,
   "metadata": {},
   "outputs": [
    {
     "name": "stdout",
     "output_type": "stream",
     "text": [
      "['Abhishek', 'Akshay', 'vishal', 'hemant', 'Rohit ', 'sagar', 'Prasad']\n"
     ]
    }
   ],
   "source": [
    "#combining both lists to create one common list of students:\n",
    "\n",
    "new_class = class_1 + class_2\n",
    "print(new_class)"
   ]
  },
  {
   "cell_type": "code",
   "execution_count": 24,
   "metadata": {},
   "outputs": [
    {
     "name": "stdout",
     "output_type": "stream",
     "text": [
      "['Abhishek', 'Akshay', 'vishal', 'hemant', 'Rohit ', 'sagar', 'Prasad', 'Rahul']\n",
      "['Abhishek', 'vishal', 'hemant', 'Rohit ', 'sagar', 'Prasad', 'Rahul']\n"
     ]
    }
   ],
   "source": [
    "#adding the name of a student who was missing :\n",
    "new_class.append('Rahul')\n",
    "print(new_class)\n",
    "\n",
    "new_class.remove('Akshay')\n",
    "print(new_class)"
   ]
  },
  {
   "cell_type": "code",
   "execution_count": 25,
   "metadata": {},
   "outputs": [],
   "source": [
    "#Lets calculate the % score of 'Vishal':\n",
    "#creating a dictionary of marks obtained by 'vishal' in respective subjects:\n",
    "# and adding all Marks\n",
    "\n",
    "# Creating a dictionary of courses\n",
    "\n",
    "courses = {'Math': 68, 'English':70, 'History': 85, 'Geography': 70, 'Science': 60}"
   ]
  },
  {
   "cell_type": "code",
   "execution_count": 26,
   "metadata": {},
   "outputs": [
    {
     "name": "stdout",
     "output_type": "stream",
     "text": [
      "353\n"
     ]
    }
   ],
   "source": [
    "total = courses['Math'] + courses['English'] + courses['History'] + courses['Geography'] + courses['Science']\n",
    "print(total)"
   ]
  },
  {
   "cell_type": "code",
   "execution_count": 27,
   "metadata": {},
   "outputs": [
    {
     "name": "stdout",
     "output_type": "stream",
     "text": [
      "70.6\n"
     ]
    }
   ],
   "source": [
    "# since all marks obtained are outof 100\n",
    "\n",
    "percentage = (total / 500) * 100\n",
    "print(percentage)"
   ]
  },
  {
   "cell_type": "code",
   "execution_count": 28,
   "metadata": {},
   "outputs": [],
   "source": [
    "#Now to find the topper in mathematics, we create another dictionary of students with their respective maths score:\n",
    "mathematics = {'Abhishek bhujbal':78, 'Hemant hadawale':95, 'rohit pawar':65, 'Rahul kadam':50, 'Pooja bhosale':70, 'sagar jadahv':66, 'Rahul joshi':75}"
   ]
  },
  {
   "cell_type": "code",
   "execution_count": 29,
   "metadata": {},
   "outputs": [
    {
     "name": "stdout",
     "output_type": "stream",
     "text": [
      "Hemant hadawale\n"
     ]
    }
   ],
   "source": [
    "#compares the value & returns the key:\n",
    "topper = max(mathematics, key = mathematics.get)\n",
    "print(topper)"
   ]
  },
  {
   "cell_type": "code",
   "execution_count": 30,
   "metadata": {},
   "outputs": [
    {
     "name": "stdout",
     "output_type": "stream",
     "text": [
      "hadawale Hemant\n"
     ]
    }
   ],
   "source": [
    "#to get the last name first:\n",
    "\n",
    "first_name = topper.split()[0]\n",
    "last_name = topper.split()[1]\n",
    "full_name = last_name + ' ' + first_name\n",
    "print(full_name)"
   ]
  },
  {
   "cell_type": "code",
   "execution_count": 31,
   "metadata": {},
   "outputs": [
    {
     "name": "stdout",
     "output_type": "stream",
     "text": [
      "HADAWALE HEMANT\n"
     ]
    }
   ],
   "source": [
    "#to highlight the name, printing in uppercase:\n",
    "\n",
    "uppercase_name = full_name.upper()\n",
    "print(uppercase_name)"
   ]
  },
  {
   "cell_type": "code",
   "execution_count": null,
   "metadata": {},
   "outputs": [],
   "source": []
  }
 ],
 "metadata": {
  "kernelspec": {
   "display_name": "Python 3",
   "language": "python",
   "name": "python3"
  },
  "language_info": {
   "codemirror_mode": {
    "name": "ipython",
    "version": 3
   },
   "file_extension": ".py",
   "mimetype": "text/x-python",
   "name": "python",
   "nbconvert_exporter": "python",
   "pygments_lexer": "ipython3",
   "version": "3.7.7"
  }
 },
 "nbformat": 4,
 "nbformat_minor": 4
}
