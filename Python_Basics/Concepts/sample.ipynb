{
 "cells": [
  {
   "cell_type": "code",
   "execution_count": 1,
   "metadata": {},
   "outputs": [],
   "source": [
    "file_path = 'C:\\\\Users\\\\Abhisekh\\\\Desktop\\\\Python_basics\\\\Python_concepts\\\\file.txt'"
   ]
  },
  {
   "cell_type": "code",
   "execution_count": 2,
   "metadata": {},
   "outputs": [],
   "source": [
    "#function for reading files\n",
    "def read_file(path) :\n",
    "    file = open(path, 'r')\n",
    "    sentence = file.readline()\n",
    "    file.close()\n",
    "    return sentence"
   ]
  },
  {
   "cell_type": "code",
   "execution_count": 3,
   "metadata": {},
   "outputs": [
    {
     "name": "stdout",
     "output_type": "stream",
     "text": [
      "Learning ptyhon is good\n",
      "\n"
     ]
    }
   ],
   "source": [
    "sample_message = read_file(file_path)\n",
    "print(sample_message)"
   ]
  },
  {
   "cell_type": "code",
   "execution_count": 4,
   "metadata": {},
   "outputs": [],
   "source": [
    "# reading first 2 messages:\n",
    "file_path_1 = 'C:\\\\Users\\\\Abhisekh\\\\Desktop\\\\Python_basics\\\\Python_concepts\\\\file_1.txt'\n",
    "file_path_2 = 'C:\\\\Users\\\\Abhisekh\\\\Desktop\\\\Python_basics\\\\Python_concepts\\\\file_2.txt'"
   ]
  },
  {
   "cell_type": "code",
   "execution_count": 5,
   "metadata": {},
   "outputs": [
    {
     "name": "stdout",
     "output_type": "stream",
     "text": [
      "20145\n",
      "22245\n"
     ]
    }
   ],
   "source": [
    "message_1 = read_file(file_path_1)\n",
    "print(message_1)\n",
    "\n",
    "message_2 = read_file(file_path_2)\n",
    "print(message_2)"
   ]
  },
  {
   "cell_type": "code",
   "execution_count": 6,
   "metadata": {},
   "outputs": [],
   "source": [
    "# Implementing integer(floor) division of message_b over message_a\n",
    "def fuse_msg(message_a, message_b) :\n",
    "    quotient = int(message_b) // int(message_a)\n",
    "    return str(quotient)"
   ]
  },
  {
   "cell_type": "code",
   "execution_count": 7,
   "metadata": {},
   "outputs": [
    {
     "name": "stdout",
     "output_type": "stream",
     "text": [
      "1\n"
     ]
    }
   ],
   "source": [
    "secret_msg_1 = fuse_msg(message_1, message_2)\n",
    "print(secret_msg_1)"
   ]
  },
  {
   "cell_type": "code",
   "execution_count": 8,
   "metadata": {},
   "outputs": [],
   "source": [
    "# Decoding message 3:\n",
    "file_path_3 = 'C:\\\\Users\\\\Abhisekh\\\\Desktop\\\\Python_basics\\\\Python_concepts\\\\file_3.txt'\n"
   ]
  },
  {
   "cell_type": "code",
   "execution_count": 9,
   "metadata": {},
   "outputs": [
    {
     "name": "stdout",
     "output_type": "stream",
     "text": [
      "Abhishek\n"
     ]
    }
   ],
   "source": [
    "message_3 = read_file(file_path_3)\n",
    "print(message_3)"
   ]
  },
  {
   "cell_type": "code",
   "execution_count": 10,
   "metadata": {},
   "outputs": [],
   "source": [
    "def substitute_msg(message_c) :\n",
    "    if message_c == 'Abhishek':\n",
    "        sub = 'Python developer'\n",
    "    if message_3 == 'Hemant':\n",
    "        sub = 'Data Scientist'\n",
    "    if message_3 == 'Omkar':\n",
    "        sub = 'Database Developer'\n",
    "    return sub\n"
   ]
  },
  {
   "cell_type": "code",
   "execution_count": 11,
   "metadata": {},
   "outputs": [
    {
     "name": "stdout",
     "output_type": "stream",
     "text": [
      "Python developer\n"
     ]
    }
   ],
   "source": [
    "secret_msg_2 = substitute_msg(message_3)\n",
    "print(secret_msg_2)"
   ]
  },
  {
   "cell_type": "code",
   "execution_count": 12,
   "metadata": {},
   "outputs": [],
   "source": [
    "# File path for message 4  and message 5\n",
    "# Decoding message 4 & 5\n",
    "file_path_4 = 'C:\\\\Users\\\\Abhisekh\\\\Desktop\\\\Python_basics\\\\Python_concepts\\\\file_4.txt'\n",
    "file_path_5 = 'C:\\\\Users\\\\Abhisekh\\\\Desktop\\\\Python_basics\\\\Python_concepts\\\\file_5.txt'"
   ]
  },
  {
   "cell_type": "code",
   "execution_count": 13,
   "metadata": {},
   "outputs": [
    {
     "name": "stdout",
     "output_type": "stream",
     "text": [
      "I hope you are good now\n",
      "I hope good things happen in your life.\n"
     ]
    }
   ],
   "source": [
    "message_4 = read_file(file_path_4)\n",
    "print(message_4)\n",
    "\n",
    "message_5 = read_file(file_path_5)\n",
    "print(message_5)"
   ]
  },
  {
   "cell_type": "code",
   "execution_count": 14,
   "metadata": {},
   "outputs": [],
   "source": [
    "#comparing and taking only unique words from message 4\n",
    "def compare_msg(message_d, message_e) :\n",
    "    a_list = message_d.split()\n",
    "    b_list = message_e.split()\n",
    "    c_list = [i for i in a_list if not i in b_list]\n",
    "    print(c_list)\n",
    "    final_msg = \" \".join(c_list)\n",
    "    return final_msg"
   ]
  },
  {
   "cell_type": "code",
   "execution_count": 15,
   "metadata": {},
   "outputs": [
    {
     "name": "stdout",
     "output_type": "stream",
     "text": [
      "['you', 'are', 'now']\n",
      "you are now\n"
     ]
    }
   ],
   "source": [
    "secret_msg_3 = compare_msg(message_4, message_5)\n",
    "print(secret_msg_3)"
   ]
  },
  {
   "cell_type": "code",
   "execution_count": 16,
   "metadata": {},
   "outputs": [],
   "source": [
    "# another message 6\n",
    "file_path_6 = 'C:\\\\Users\\\\Abhisekh\\\\Desktop\\\\Python_basics\\\\Python_concepts\\\\file_6.txt'"
   ]
  },
  {
   "cell_type": "code",
   "execution_count": 17,
   "metadata": {},
   "outputs": [
    {
     "name": "stdout",
     "output_type": "stream",
     "text": [
      "The man was one step closer towards his quest to become a spy\n"
     ]
    }
   ],
   "source": [
    "message_6 = read_file(file_path_6)\n",
    "print(message_6)"
   ]
  },
  {
   "cell_type": "code",
   "execution_count": 18,
   "metadata": {},
   "outputs": [],
   "source": [
    "def extract_msg(message_f):\n",
    "    a_list = message_f.split()                       #splitting sentence to list of words\n",
    "    even_word = lambda x : (len(x) % 2 == 0)         #condition to check even no. of letters in a word\n",
    "    b_list = list(filter(even_word, a_list))         #filtering words divisible by 2 from list of words\n",
    "    final_msg = ' '.join(b_list)                     #converting from list to sentence separated by space ' '\n",
    "    return final_msg"
   ]
  },
  {
   "cell_type": "code",
   "execution_count": 19,
   "metadata": {},
   "outputs": [
    {
     "name": "stdout",
     "output_type": "stream",
     "text": [
      "step closer to become\n"
     ]
    }
   ],
   "source": [
    "secret_msg_4 = extract_msg(message_6)\n",
    "print(secret_msg_4)"
   ]
  },
  {
   "cell_type": "code",
   "execution_count": 20,
   "metadata": {},
   "outputs": [],
   "source": [
    "#Secret message parts in the correct order\n",
    "message_parts=[secret_msg_3, secret_msg_1, secret_msg_4, secret_msg_2]\n",
    "\n",
    "final_path= 'C:\\\\Users\\\\Abhisekh\\\\Desktop\\\\Python_basics\\\\Python_concepts\\\\secret_message.txt'\n",
    "\n",
    "secret_msg = ' '.join(message_parts)"
   ]
  },
  {
   "cell_type": "code",
   "execution_count": 21,
   "metadata": {},
   "outputs": [],
   "source": [
    "def write_file(secret_msg, path):\n",
    "    f = open(path, 'a+')\n",
    "    f.write(secret_msg)\n",
    "    f.close()"
   ]
  },
  {
   "cell_type": "code",
   "execution_count": 22,
   "metadata": {},
   "outputs": [
    {
     "name": "stdout",
     "output_type": "stream",
     "text": [
      "you are now 1 step closer to become Python developer\n"
     ]
    }
   ],
   "source": [
    "write_file(secret_msg, final_path)\n",
    "print(secret_msg)"
   ]
  },
  {
   "cell_type": "code",
   "execution_count": null,
   "metadata": {},
   "outputs": [],
   "source": []
  }
 ],
 "metadata": {
  "kernelspec": {
   "display_name": "Python 3",
   "language": "python",
   "name": "python3"
  },
  "language_info": {
   "codemirror_mode": {
    "name": "ipython",
    "version": 3
   },
   "file_extension": ".py",
   "mimetype": "text/x-python",
   "name": "python",
   "nbconvert_exporter": "python",
   "pygments_lexer": "ipython3",
   "version": "3.7.7"
  }
 },
 "nbformat": 4,
 "nbformat_minor": 4
}
